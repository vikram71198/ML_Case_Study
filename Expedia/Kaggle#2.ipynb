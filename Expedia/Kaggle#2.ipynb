{
 "cells": [
  {
   "cell_type": "markdown",
   "metadata": {
    "colab_type": "text",
    "id": "x_BkOtqBIKQz"
   },
   "source": [
    "# Data Science Challenge"
   ]
  },
  {
   "cell_type": "code",
   "execution_count": 81,
   "metadata": {
    "colab": {},
    "colab_type": "code",
    "id": "U_VthdACIKQ6"
   },
   "outputs": [
    {
     "name": "stdout",
     "output_type": "stream",
     "text": [
      "Collecting xgboost\n",
      "  Downloading xgboost-1.5.2-py3-none-manylinux2014_x86_64.whl (173.6 MB)\n",
      "\u001b[K     |████████████████████████████████| 173.6 MB 6.5 kB/s s eta 0:00:01\n",
      "\u001b[?25hRequirement already satisfied: numpy in /opt/conda/lib/python3.7/site-packages (from xgboost) (1.19.2)\n",
      "Requirement already satisfied: scipy in /opt/conda/lib/python3.7/site-packages (from xgboost) (1.3.3)\n",
      "Installing collected packages: xgboost\n",
      "Successfully installed xgboost-1.5.2\n"
     ]
    }
   ],
   "source": [
    "# To install packages that are not installed by default, uncomment the last two lines \n",
    "# of this cell and replace <package list> with a list of necessary packages.\n",
    "# This will ensure the notebook has all the dependencies and works everywhere.\n",
    "\n",
    "import sys\n",
    "!{sys.executable} -m pip install xgboost"
   ]
  },
  {
   "cell_type": "code",
   "execution_count": 46,
   "metadata": {
    "colab": {},
    "colab_type": "code",
    "id": "VzGFUCCVIKRL"
   },
   "outputs": [],
   "source": [
    "#Libraries\n",
    "import pandas as pd\n",
    "import numpy as np\n",
    "import seaborn as sns\n",
    "import matplotlib.pyplot as plt\n",
    "import warnings\n",
    "warnings.filterwarnings('ignore')\n",
    "pd.set_option(\"display.max_columns\", 101)"
   ]
  },
  {
   "cell_type": "markdown",
   "metadata": {
    "colab_type": "text",
    "id": "TZ23KNY8IKRT"
   },
   "source": [
    "## Data Description"
   ]
  },
  {
   "cell_type": "markdown",
   "metadata": {
    "colab_type": "text",
    "id": "jWSkqquEIKRW"
   },
   "source": [
    "Column | Description\n",
    ":---|:---\n",
    "`id` | The unique ID assigned to every hotel.\n",
    "`region` | The region in which the hotel is located..\n",
    "`latitude` | The latitude of the hotel.\n",
    "`longitude` | The longitude of the hotel.\n",
    "`accommodation_type` | The type of accommodation offered by the hotel. For example: Private room, Entire house/apt, etc.\n",
    "`cost` | The cost of booking the hotel for one night. (in \\$\\$)\n",
    "`minimum_nights` | The minimum number of nights stay required.\n",
    "`number_of_reviews` | The number of reviews accumulated by the hotel.\n",
    "`reviews_per_month` | The average number of reviews received by the hotel per month.\n",
    "`owner_id` | The unique ID assigned to every owner. An owner can own multiple hotels.\n",
    "`owned_hotels` | The number of hotels owned by the owner.\n",
    "`yearly_availability` | It indicates if the hotel accepts bookings around the year. Values are 0 (not available for 365 days in a year) and 1 (available for 365 days in a year)."
   ]
  },
  {
   "cell_type": "markdown",
   "metadata": {
    "colab_type": "text",
    "id": "BWQqx7cSIKRX"
   },
   "source": [
    "## Data Wrangling & Visualization"
   ]
  },
  {
   "cell_type": "code",
   "execution_count": 2,
   "metadata": {
    "colab": {},
    "colab_type": "code",
    "id": "SsjL7tf7IKRc"
   },
   "outputs": [],
   "source": [
    "# Dataset is already loaded below\n",
    "data = pd.read_csv(\"train.csv\")"
   ]
  },
  {
   "cell_type": "code",
   "execution_count": 3,
   "metadata": {
    "colab": {},
    "colab_type": "code",
    "id": "kzuHtZEkIKRh",
    "outputId": "9d14832c-2eda-48eb-df41-548113a94a73"
   },
   "outputs": [
    {
     "data": {
      "text/html": [
       "<div>\n",
       "<style scoped>\n",
       "    .dataframe tbody tr th:only-of-type {\n",
       "        vertical-align: middle;\n",
       "    }\n",
       "\n",
       "    .dataframe tbody tr th {\n",
       "        vertical-align: top;\n",
       "    }\n",
       "\n",
       "    .dataframe thead th {\n",
       "        text-align: right;\n",
       "    }\n",
       "</style>\n",
       "<table border=\"1\" class=\"dataframe\">\n",
       "  <thead>\n",
       "    <tr style=\"text-align: right;\">\n",
       "      <th></th>\n",
       "      <th>id</th>\n",
       "      <th>region</th>\n",
       "      <th>latitude</th>\n",
       "      <th>longitude</th>\n",
       "      <th>accommodation_type</th>\n",
       "      <th>cost</th>\n",
       "      <th>minimum_nights</th>\n",
       "      <th>number_of_reviews</th>\n",
       "      <th>reviews_per_month</th>\n",
       "      <th>owner_id</th>\n",
       "      <th>owned_hotels</th>\n",
       "      <th>yearly_availability</th>\n",
       "    </tr>\n",
       "  </thead>\n",
       "  <tbody>\n",
       "    <tr>\n",
       "      <th>0</th>\n",
       "      <td>13232</td>\n",
       "      <td>Manhattan</td>\n",
       "      <td>40.71854</td>\n",
       "      <td>-74.00439</td>\n",
       "      <td>Entire home/apt</td>\n",
       "      <td>170</td>\n",
       "      <td>5</td>\n",
       "      <td>7</td>\n",
       "      <td>0.56</td>\n",
       "      <td>929983</td>\n",
       "      <td>1</td>\n",
       "      <td>0</td>\n",
       "    </tr>\n",
       "    <tr>\n",
       "      <th>1</th>\n",
       "      <td>246</td>\n",
       "      <td>Brooklyn</td>\n",
       "      <td>40.64446</td>\n",
       "      <td>-73.95030</td>\n",
       "      <td>Entire home/apt</td>\n",
       "      <td>65</td>\n",
       "      <td>3</td>\n",
       "      <td>238</td>\n",
       "      <td>2.30</td>\n",
       "      <td>281764</td>\n",
       "      <td>1</td>\n",
       "      <td>0</td>\n",
       "    </tr>\n",
       "    <tr>\n",
       "      <th>2</th>\n",
       "      <td>19091</td>\n",
       "      <td>Queens</td>\n",
       "      <td>40.78573</td>\n",
       "      <td>-73.81062</td>\n",
       "      <td>Private room</td>\n",
       "      <td>85</td>\n",
       "      <td>1</td>\n",
       "      <td>0</td>\n",
       "      <td>NaN</td>\n",
       "      <td>19923341</td>\n",
       "      <td>1</td>\n",
       "      <td>1</td>\n",
       "    </tr>\n",
       "    <tr>\n",
       "      <th>3</th>\n",
       "      <td>34305</td>\n",
       "      <td>Manhattan</td>\n",
       "      <td>40.73863</td>\n",
       "      <td>-73.98002</td>\n",
       "      <td>Private room</td>\n",
       "      <td>210</td>\n",
       "      <td>30</td>\n",
       "      <td>0</td>\n",
       "      <td>NaN</td>\n",
       "      <td>200380610</td>\n",
       "      <td>65</td>\n",
       "      <td>1</td>\n",
       "    </tr>\n",
       "    <tr>\n",
       "      <th>4</th>\n",
       "      <td>444</td>\n",
       "      <td>Manhattan</td>\n",
       "      <td>40.82426</td>\n",
       "      <td>-73.94630</td>\n",
       "      <td>Shared room</td>\n",
       "      <td>75</td>\n",
       "      <td>3</td>\n",
       "      <td>38</td>\n",
       "      <td>0.42</td>\n",
       "      <td>745069</td>\n",
       "      <td>3</td>\n",
       "      <td>1</td>\n",
       "    </tr>\n",
       "  </tbody>\n",
       "</table>\n",
       "</div>"
      ],
      "text/plain": [
       "      id     region  latitude  longitude accommodation_type  cost  \\\n",
       "0  13232  Manhattan  40.71854  -74.00439    Entire home/apt   170   \n",
       "1    246   Brooklyn  40.64446  -73.95030    Entire home/apt    65   \n",
       "2  19091     Queens  40.78573  -73.81062       Private room    85   \n",
       "3  34305  Manhattan  40.73863  -73.98002       Private room   210   \n",
       "4    444  Manhattan  40.82426  -73.94630        Shared room    75   \n",
       "\n",
       "   minimum_nights  number_of_reviews  reviews_per_month   owner_id  \\\n",
       "0               5                  7               0.56     929983   \n",
       "1               3                238               2.30     281764   \n",
       "2               1                  0                NaN   19923341   \n",
       "3              30                  0                NaN  200380610   \n",
       "4               3                 38               0.42     745069   \n",
       "\n",
       "   owned_hotels  yearly_availability  \n",
       "0             1                    0  \n",
       "1             1                    0  \n",
       "2             1                    1  \n",
       "3            65                    1  \n",
       "4             3                    1  "
      ]
     },
     "execution_count": 3,
     "metadata": {},
     "output_type": "execute_result"
    }
   ],
   "source": [
    "data.head()"
   ]
  },
  {
   "cell_type": "code",
   "execution_count": 4,
   "metadata": {
    "colab": {},
    "colab_type": "code",
    "id": "0mhMZRlBIKRu",
    "outputId": "0a669059-5528-4ec0-d64b-8231f6aadf45"
   },
   "outputs": [
    {
     "data": {
      "text/plain": [
       "Index(['id', 'region', 'latitude', 'longitude', 'accommodation_type', 'cost',\n",
       "       'minimum_nights', 'number_of_reviews', 'reviews_per_month', 'owner_id',\n",
       "       'owned_hotels', 'yearly_availability'],\n",
       "      dtype='object')"
      ]
     },
     "execution_count": 4,
     "metadata": {},
     "output_type": "execute_result"
    }
   ],
   "source": [
    "#Explore columns\n",
    "data.columns"
   ]
  },
  {
   "cell_type": "code",
   "execution_count": 5,
   "metadata": {
    "colab": {},
    "colab_type": "code",
    "id": "-SrTmyfJIKR1",
    "outputId": "12b270ca-8c3f-402b-d6c1-286c17e63fdd"
   },
   "outputs": [
    {
     "data": {
      "text/html": [
       "<div>\n",
       "<style scoped>\n",
       "    .dataframe tbody tr th:only-of-type {\n",
       "        vertical-align: middle;\n",
       "    }\n",
       "\n",
       "    .dataframe tbody tr th {\n",
       "        vertical-align: top;\n",
       "    }\n",
       "\n",
       "    .dataframe thead th {\n",
       "        text-align: right;\n",
       "    }\n",
       "</style>\n",
       "<table border=\"1\" class=\"dataframe\">\n",
       "  <thead>\n",
       "    <tr style=\"text-align: right;\">\n",
       "      <th></th>\n",
       "      <th>id</th>\n",
       "      <th>latitude</th>\n",
       "      <th>longitude</th>\n",
       "      <th>cost</th>\n",
       "      <th>minimum_nights</th>\n",
       "      <th>number_of_reviews</th>\n",
       "      <th>reviews_per_month</th>\n",
       "      <th>owner_id</th>\n",
       "      <th>owned_hotels</th>\n",
       "      <th>yearly_availability</th>\n",
       "    </tr>\n",
       "  </thead>\n",
       "  <tbody>\n",
       "    <tr>\n",
       "      <th>count</th>\n",
       "      <td>2870.000000</td>\n",
       "      <td>2870.000000</td>\n",
       "      <td>2870.000000</td>\n",
       "      <td>2870.000000</td>\n",
       "      <td>2870.000000</td>\n",
       "      <td>2870.000000</td>\n",
       "      <td>2194.000000</td>\n",
       "      <td>2.870000e+03</td>\n",
       "      <td>2870.000000</td>\n",
       "      <td>2870.000000</td>\n",
       "    </tr>\n",
       "    <tr>\n",
       "      <th>mean</th>\n",
       "      <td>26760.657143</td>\n",
       "      <td>40.731224</td>\n",
       "      <td>-73.950158</td>\n",
       "      <td>195.943206</td>\n",
       "      <td>11.530314</td>\n",
       "      <td>16.315331</td>\n",
       "      <td>1.157502</td>\n",
       "      <td>7.202195e+07</td>\n",
       "      <td>8.411498</td>\n",
       "      <td>0.498606</td>\n",
       "    </tr>\n",
       "    <tr>\n",
       "      <th>std</th>\n",
       "      <td>14140.930062</td>\n",
       "      <td>0.054942</td>\n",
       "      <td>0.049745</td>\n",
       "      <td>406.184714</td>\n",
       "      <td>37.972339</td>\n",
       "      <td>32.481722</td>\n",
       "      <td>1.355028</td>\n",
       "      <td>8.076516e+07</td>\n",
       "      <td>27.105522</td>\n",
       "      <td>0.500085</td>\n",
       "    </tr>\n",
       "    <tr>\n",
       "      <th>min</th>\n",
       "      <td>0.000000</td>\n",
       "      <td>40.507080</td>\n",
       "      <td>-74.242850</td>\n",
       "      <td>10.000000</td>\n",
       "      <td>1.000000</td>\n",
       "      <td>0.000000</td>\n",
       "      <td>0.010000</td>\n",
       "      <td>2.787000e+03</td>\n",
       "      <td>1.000000</td>\n",
       "      <td>0.000000</td>\n",
       "    </tr>\n",
       "    <tr>\n",
       "      <th>25%</th>\n",
       "      <td>15931.750000</td>\n",
       "      <td>40.692462</td>\n",
       "      <td>-73.984003</td>\n",
       "      <td>75.000000</td>\n",
       "      <td>1.000000</td>\n",
       "      <td>1.000000</td>\n",
       "      <td>0.240000</td>\n",
       "      <td>7.388002e+06</td>\n",
       "      <td>1.000000</td>\n",
       "      <td>0.000000</td>\n",
       "    </tr>\n",
       "    <tr>\n",
       "      <th>50%</th>\n",
       "      <td>28946.500000</td>\n",
       "      <td>40.728250</td>\n",
       "      <td>-73.956720</td>\n",
       "      <td>120.000000</td>\n",
       "      <td>3.000000</td>\n",
       "      <td>4.000000</td>\n",
       "      <td>0.650000</td>\n",
       "      <td>3.352708e+07</td>\n",
       "      <td>1.000000</td>\n",
       "      <td>0.000000</td>\n",
       "    </tr>\n",
       "    <tr>\n",
       "      <th>75%</th>\n",
       "      <td>38478.500000</td>\n",
       "      <td>40.762658</td>\n",
       "      <td>-73.934202</td>\n",
       "      <td>200.000000</td>\n",
       "      <td>6.000000</td>\n",
       "      <td>16.000000</td>\n",
       "      <td>1.530000</td>\n",
       "      <td>1.207625e+08</td>\n",
       "      <td>3.000000</td>\n",
       "      <td>1.000000</td>\n",
       "    </tr>\n",
       "    <tr>\n",
       "      <th>max</th>\n",
       "      <td>48893.000000</td>\n",
       "      <td>40.898730</td>\n",
       "      <td>-73.721730</td>\n",
       "      <td>9999.000000</td>\n",
       "      <td>999.000000</td>\n",
       "      <td>395.000000</td>\n",
       "      <td>10.370000</td>\n",
       "      <td>2.738123e+08</td>\n",
       "      <td>327.000000</td>\n",
       "      <td>1.000000</td>\n",
       "    </tr>\n",
       "  </tbody>\n",
       "</table>\n",
       "</div>"
      ],
      "text/plain": [
       "                 id     latitude    longitude         cost  minimum_nights  \\\n",
       "count   2870.000000  2870.000000  2870.000000  2870.000000     2870.000000   \n",
       "mean   26760.657143    40.731224   -73.950158   195.943206       11.530314   \n",
       "std    14140.930062     0.054942     0.049745   406.184714       37.972339   \n",
       "min        0.000000    40.507080   -74.242850    10.000000        1.000000   \n",
       "25%    15931.750000    40.692462   -73.984003    75.000000        1.000000   \n",
       "50%    28946.500000    40.728250   -73.956720   120.000000        3.000000   \n",
       "75%    38478.500000    40.762658   -73.934202   200.000000        6.000000   \n",
       "max    48893.000000    40.898730   -73.721730  9999.000000      999.000000   \n",
       "\n",
       "       number_of_reviews  reviews_per_month      owner_id  owned_hotels  \\\n",
       "count        2870.000000        2194.000000  2.870000e+03   2870.000000   \n",
       "mean           16.315331           1.157502  7.202195e+07      8.411498   \n",
       "std            32.481722           1.355028  8.076516e+07     27.105522   \n",
       "min             0.000000           0.010000  2.787000e+03      1.000000   \n",
       "25%             1.000000           0.240000  7.388002e+06      1.000000   \n",
       "50%             4.000000           0.650000  3.352708e+07      1.000000   \n",
       "75%            16.000000           1.530000  1.207625e+08      3.000000   \n",
       "max           395.000000          10.370000  2.738123e+08    327.000000   \n",
       "\n",
       "       yearly_availability  \n",
       "count          2870.000000  \n",
       "mean              0.498606  \n",
       "std               0.500085  \n",
       "min               0.000000  \n",
       "25%               0.000000  \n",
       "50%               0.000000  \n",
       "75%               1.000000  \n",
       "max               1.000000  "
      ]
     },
     "execution_count": 5,
     "metadata": {},
     "output_type": "execute_result"
    }
   ],
   "source": [
    "#Description\n",
    "data.describe()"
   ]
  },
  {
   "cell_type": "markdown",
   "metadata": {
    "colab": {},
    "colab_type": "code",
    "id": "Vel-7S7gIKR9"
   },
   "source": [
    "## EXPLORATORY DATA ANALYSIS (EDA)"
   ]
  },
  {
   "cell_type": "markdown",
   "metadata": {
    "colab": {},
    "colab_type": "code",
    "id": "fp1nvdh-IKSE"
   },
   "source": [
    "## CHECKING IF CLASSES ARE BALANCED/IMBALANCED"
   ]
  },
  {
   "cell_type": "code",
   "execution_count": 6,
   "metadata": {
    "colab": {},
    "colab_type": "code",
    "id": "px5KNTQ7IKSK"
   },
   "outputs": [
    {
     "data": {
      "image/png": "[encoded data removed]",
      "text/plain": [
       "<Figure size 576x432 with 1 Axes>"
      ]
     },
     "metadata": {
      "needs_background": "light"
     },
     "output_type": "display_data"
    }
   ],
   "source": [
    "plt.figure(figsize=(8,6))\n",
    "Y = data[\"yearly_availability\"]\n",
    "total = len(Y)*1.\n",
    "ax=sns.countplot(x=\"yearly_availability\", data=data)\n",
    "\n",
    "for p in ax.patches:\n",
    "    ax.annotate('{:.1f}%'.format(100*p.get_height()/total), (p.get_x()+0.1, p.get_height()+5))\n",
    "\n",
    "ax.yaxis.set_ticks(np.linspace(0, total, 11))\n",
    "ax.set_yticklabels(map('{:.1f}%'.format, 100*ax.yaxis.get_majorticklocs()/total))\n",
    "ax.set_xticklabels(ax.get_xticklabels(), rotation=40, ha=\"right\")\n",
    "plt.show()"
   ]
  },
  {
   "cell_type": "markdown",
   "metadata": {
    "colab": {},
    "colab_type": "code",
    "id": "W9B6xKGpIKSQ"
   },
   "source": [
    "As we can see here, the classes are clearly balanced. This means we don't need to incorporate class balancing mechanisms while running our ML models on the data."
   ]
  },
  {
   "cell_type": "markdown",
   "metadata": {},
   "source": [
    "## VISUALIZING THE FEATURES"
   ]
  },
  {
   "cell_type": "markdown",
   "metadata": {},
   "source": [
    "Let us now visualize all our features one by one and try and make conjectures about how relevant each feature is towards making final predictions. We will use histograms for categorical features and boxplots for numeric features."
   ]
  },
  {
   "cell_type": "code",
   "execution_count": 7,
   "metadata": {},
   "outputs": [],
   "source": [
    "def histogramPlot(label, dataset):\n",
    "  plt.figure(figsize=(20,10))\n",
    "  Y = data[label]\n",
    "  total = len(Y)*1.\n",
    "  ax=sns.countplot(x=label, data=dataset, hue=\"yearly_availability\")\n",
    "  for p in ax.patches:\n",
    "    ax.annotate('{:.1f}%'.format(100*p.get_height()/total), (p.get_x()+0.1, p.get_height()+5))\n",
    "  ax.yaxis.set_ticks(np.linspace(0, total, 11))\n",
    "  ax.set_yticklabels(map('{:.1f}%'.format, 100*ax.yaxis.get_majorticklocs()/total))\n",
    "  ax.set_xticklabels(ax.get_xticklabels(), rotation=40, ha=\"right\")\n",
    "  plt.show()"
   ]
  },
  {
   "cell_type": "markdown",
   "metadata": {},
   "source": [
    "## REGION"
   ]
  },
  {
   "cell_type": "code",
   "execution_count": 8,
   "metadata": {},
   "outputs": [
    {
     "data": {
      "image/png": "[encoded data removed]",
      "text/plain": [
       "<Figure size 1440x720 with 1 Axes>"
      ]
     },
     "metadata": {
      "needs_background": "light"
     },
     "output_type": "display_data"
    }
   ],
   "source": [
    "histogramPlot(\"region\", data)"
   ]
  },
  {
   "cell_type": "markdown",
   "metadata": {},
   "source": [
    "As we can see in the histogram above, looks like most of our hotels are in the Manhattan area, with Brooklyn being the second popular hotel destination. \n",
    "\n",
    "If a hotel is in Manhattan, it's hard to say if it will be available all year long or not, since the data distribution is pretty 50-50. The same can be said about hotels in Brooklyn. With hotels in Queens, there's a higher chance that they will be available throughout the year. And we hardly have any height to the histogram for hotels in the Bronx & Staten Island to be even making such conjectures."
   ]
  },
  {
   "cell_type": "markdown",
   "metadata": {},
   "source": [
    "## ACCOMMODATION TYPE"
   ]
  },
  {
   "cell_type": "code",
   "execution_count": 9,
   "metadata": {},
   "outputs": [
    {
     "data": {
      "image/png": "[encoded data removed]",
      "text/plain": [
       "<Figure size 1440x720 with 1 Axes>"
      ]
     },
     "metadata": {
      "needs_background": "light"
     },
     "output_type": "display_data"
    }
   ],
   "source": [
    "histogramPlot('accommodation_type', data)"
   ]
  },
  {
   "cell_type": "markdown",
   "metadata": {},
   "source": [
    "Looks like Private Rooms are most common. We can make a pretty good guess about the yearly availability of a hotel with private rooms based on this histogram. They will most likely be available!\n",
    "\n",
    "We can also be fairly confident about hotels renting out the entire home/apt. Most of these hotels won't be available throughout the year.\n",
    "\n",
    "Nothing can be said confidently about shared rooms, since the ddifference between the heights of the two histograms isn't too significant for us to make any final decisions."
   ]
  },
  {
   "cell_type": "markdown",
   "metadata": {},
   "source": [
    "## LATITUDE"
   ]
  },
  {
   "cell_type": "code",
   "execution_count": 10,
   "metadata": {},
   "outputs": [
    {
     "data": {
      "image/png": "[encoded data removed]",
      "text/plain": [
       "<Figure size 432x288 with 1 Axes>"
      ]
     },
     "metadata": {
      "needs_background": "light"
     },
     "output_type": "display_data"
    }
   ],
   "source": [
    "sns.boxplot(data = data, x = \"yearly_availability\", y = \"latitude\")\n",
    "plt.show()"
   ]
  },
  {
   "cell_type": "markdown",
   "metadata": {},
   "source": [
    "We see a very similar distribution between the two boxplots here which maybe indicates the latitude isn't going to be a veyr crucial feature? Again, this is something we will see later when we use Recursive Feature Elimination with Cross Validation to select features.\n",
    "\n",
    "The first & third quartiles (Q1 & Q3) seem to be almost perfectly coinciding. This tells us we cant predict the yearly availability of a hotel from this feature alone. Lets continue with our univariate analysis."
   ]
  },
  {
   "cell_type": "markdown",
   "metadata": {},
   "source": [
    "## LONGITUDE"
   ]
  },
  {
   "cell_type": "code",
   "execution_count": 11,
   "metadata": {},
   "outputs": [
    {
     "data": {
      "image/png": "[encoded data removed]",
      "text/plain": [
       "<Figure size 432x288 with 1 Axes>"
      ]
     },
     "metadata": {
      "needs_background": "light"
     },
     "output_type": "display_data"
    }
   ],
   "source": [
    "sns.boxplot(data = data, x = \"yearly_availability\", y = \"longitude\")\n",
    "plt.show()"
   ]
  },
  {
   "cell_type": "markdown",
   "metadata": {},
   "source": [
    "Here, again the boxplots are similar. Although the boxplot of yearly_availability = 1 does have a higher Q3. So, a hotel with a higher longitude value could be more likely to be available all year long.\n",
    "\n",
    "But, since we're working on very thin margins here, it's again too early too make a call."
   ]
  },
  {
   "cell_type": "markdown",
   "metadata": {},
   "source": [
    "## COST"
   ]
  },
  {
   "cell_type": "code",
   "execution_count": 12,
   "metadata": {},
   "outputs": [
    {
     "name": "stdout",
     "output_type": "stream",
     "text": [
      "100     137\n",
      "150     132\n",
      "200     108\n",
      "75       68\n",
      "50       65\n",
      "       ... \n",
      "5000      1\n",
      "860       1\n",
      "850       1\n",
      "840       1\n",
      "10        1\n",
      "Name: cost, Length: 330, dtype: int64\n"
     ]
    }
   ],
   "source": [
    "print(data[\"cost\"].value_counts())"
   ]
  },
  {
   "cell_type": "code",
   "execution_count": 13,
   "metadata": {},
   "outputs": [
    {
     "data": {
      "image/png": "[encoded data removed]",
      "text/plain": [
       "<Figure size 432x288 with 1 Axes>"
      ]
     },
     "metadata": {
      "needs_background": "light"
     },
     "output_type": "display_data"
    }
   ],
   "source": [
    "sns.boxplot(data = data, x = \"yearly_availability\", y = \"cost\")\n",
    "plt.show()"
   ]
  },
  {
   "cell_type": "markdown",
   "metadata": {},
   "source": [
    "While it does seem pretty intuitive that the cost would be a driving factor in deciding the predictor variable, the boxplot doesn't tell us an awful lot here. The IQR (interquartile range) for hotels with yearly_availability = 1 seems to be higher, which could mean higher cost could indicate year long availability. "
   ]
  },
  {
   "cell_type": "markdown",
   "metadata": {},
   "source": [
    "## MINIMUM NIGHTS"
   ]
  },
  {
   "cell_type": "code",
   "execution_count": 14,
   "metadata": {},
   "outputs": [
    {
     "name": "stdout",
     "output_type": "stream",
     "text": [
      "1      721\n",
      "2      657\n",
      "3      439\n",
      "30     391\n",
      "4      180\n",
      "5      132\n",
      "7      110\n",
      "6       36\n",
      "29      21\n",
      "10      19\n",
      "14      17\n",
      "90      16\n",
      "31      14\n",
      "180     13\n",
      "28      10\n",
      "15      10\n",
      "60       9\n",
      "8        8\n",
      "365      6\n",
      "20       6\n",
      "25       5\n",
      "12       4\n",
      "360      4\n",
      "9        4\n",
      "21       4\n",
      "35       3\n",
      "50       2\n",
      "300      2\n",
      "45       2\n",
      "120      2\n",
      "32       1\n",
      "225      1\n",
      "99       1\n",
      "53       1\n",
      "27       1\n",
      "16       1\n",
      "23       1\n",
      "26       1\n",
      "19       1\n",
      "480      1\n",
      "40       1\n",
      "370      1\n",
      "56       1\n",
      "13       1\n",
      "80       1\n",
      "11       1\n",
      "150      1\n",
      "186      1\n",
      "200      1\n",
      "210      1\n",
      "500      1\n",
      "366      1\n",
      "999      1\n",
      "Name: minimum_nights, dtype: int64\n"
     ]
    }
   ],
   "source": [
    "print(data[\"minimum_nights\"].value_counts())"
   ]
  },
  {
   "cell_type": "code",
   "execution_count": 15,
   "metadata": {},
   "outputs": [
    {
     "data": {
      "image/png": "[encoded data removed]",
      "text/plain": [
       "<Figure size 1440x720 with 1 Axes>"
      ]
     },
     "metadata": {
      "needs_background": "light"
     },
     "output_type": "display_data"
    }
   ],
   "source": [
    "histogramPlot(\"minimum_nights\", data)"
   ]
  },
  {
   "cell_type": "code",
   "execution_count": 16,
   "metadata": {},
   "outputs": [
    {
     "data": {
      "image/png": "[encoded data removed]",
      "text/plain": [
       "<Figure size 432x288 with 1 Axes>"
      ]
     },
     "metadata": {
      "needs_background": "light"
     },
     "output_type": "display_data"
    }
   ],
   "source": [
    "sns.boxplot(data = data, x = \"yearly_availability\", y = \"minimum_nights\")\n",
    "plt.show()"
   ]
  },
  {
   "cell_type": "markdown",
   "metadata": {},
   "source": [
    "I've plotted a histogram as well as a boxplot to better understand the distribution of the values of this feature."
   ]
  },
  {
   "cell_type": "markdown",
   "metadata": {},
   "source": [
    "We can say, in general, that hotels offering a higher value of minimum nights of stay are available all 365 days. And, in general, hotels offering a lower value of minumum nights of stay are more inclined to not be available all 365 days. This feature could potentially play a key role in determining yearly_availability"
   ]
  },
  {
   "cell_type": "markdown",
   "metadata": {},
   "source": [
    "## NUMBER OF REVIEWS"
   ]
  },
  {
   "cell_type": "code",
   "execution_count": 17,
   "metadata": {},
   "outputs": [
    {
     "data": {
      "image/png": "[encoded data removed]",
      "text/plain": [
       "<Figure size 432x288 with 1 Axes>"
      ]
     },
     "metadata": {
      "needs_background": "light"
     },
     "output_type": "display_data"
    }
   ],
   "source": [
    "sns.boxplot(data = data, x = \"yearly_availability\", y = \"number_of_reviews\")\n",
    "plt.show()"
   ]
  },
  {
   "cell_type": "markdown",
   "metadata": {},
   "source": [
    "Hotels with more reviews tend to not be available all 365 days. But again, let's not jump to any conclusions yet."
   ]
  },
  {
   "cell_type": "markdown",
   "metadata": {},
   "source": [
    "## REVIEWS PER MONTH"
   ]
  },
  {
   "cell_type": "code",
   "execution_count": 18,
   "metadata": {},
   "outputs": [
    {
     "data": {
      "image/png": "[encoded data removed]",
      "text/plain": [
       "<Figure size 432x288 with 1 Axes>"
      ]
     },
     "metadata": {
      "needs_background": "light"
     },
     "output_type": "display_data"
    }
   ],
   "source": [
    "sns.boxplot(data = data, x = \"yearly_availability\", y = \"reviews_per_month\")\n",
    "plt.show()"
   ]
  },
  {
   "cell_type": "markdown",
   "metadata": {},
   "source": [
    "This feature could prove to be pretty useful.\n",
    "\n",
    "Hotels with a higher value of this feature seem to gravitate more towards yearly_availability = 0 than 1."
   ]
  },
  {
   "cell_type": "markdown",
   "metadata": {},
   "source": [
    "## OWNER_ID"
   ]
  },
  {
   "cell_type": "code",
   "execution_count": 19,
   "metadata": {},
   "outputs": [
    {
     "data": {
      "image/png": "[encoded data removed]",
      "text/plain": [
       "<Figure size 432x288 with 1 Axes>"
      ]
     },
     "metadata": {
      "needs_background": "light"
     },
     "output_type": "display_data"
    }
   ],
   "source": [
    "sns.boxplot(data = data, x = \"yearly_availability\", y = \"owner_id\")\n",
    "plt.show()"
   ]
  },
  {
   "cell_type": "markdown",
   "metadata": {},
   "source": [
    "While it doesn't make much sense right now, it seems that owners with higher Owner IDs generally have their hotels available all year long. \n",
    "\n",
    "Since, there is quite a distinction between these two histograms, this feature could again prove to be extremely useful in determining yearly_availability."
   ]
  },
  {
   "cell_type": "markdown",
   "metadata": {},
   "source": [
    "## OWNED_HOTELS"
   ]
  },
  {
   "cell_type": "code",
   "execution_count": 20,
   "metadata": {},
   "outputs": [
    {
     "name": "stdout",
     "output_type": "stream",
     "text": [
      "1      1663\n",
      "2       385\n",
      "3       173\n",
      "4        92\n",
      "6        72\n",
      "5        55\n",
      "7        42\n",
      "121      31\n",
      "65       29\n",
      "33       26\n",
      "49       25\n",
      "10       24\n",
      "12       23\n",
      "50       22\n",
      "11       21\n",
      "87       20\n",
      "8        20\n",
      "18       19\n",
      "52       16\n",
      "9        15\n",
      "13       10\n",
      "23       10\n",
      "34        9\n",
      "232       9\n",
      "37        8\n",
      "14        7\n",
      "327       7\n",
      "17        6\n",
      "96        5\n",
      "30        4\n",
      "47        3\n",
      "15        3\n",
      "26        3\n",
      "20        3\n",
      "91        3\n",
      "32        2\n",
      "39        2\n",
      "21        1\n",
      "43        1\n",
      "103       1\n",
      "Name: owned_hotels, dtype: int64\n"
     ]
    }
   ],
   "source": [
    "print(data[\"owned_hotels\"].value_counts())"
   ]
  },
  {
   "cell_type": "markdown",
   "metadata": {},
   "source": [
    "Seems like most of our owners own a single hotel."
   ]
  },
  {
   "cell_type": "code",
   "execution_count": 21,
   "metadata": {},
   "outputs": [
    {
     "data": {
      "image/png": "[encoded data removed]",
      "text/plain": [
       "<Figure size 432x288 with 1 Axes>"
      ]
     },
     "metadata": {
      "needs_background": "light"
     },
     "output_type": "display_data"
    }
   ],
   "source": [
    "sns.boxplot(data = data, x = \"yearly_availability\", y = \"owned_hotels\")\n",
    "plt.show()"
   ]
  },
  {
   "cell_type": "markdown",
   "metadata": {},
   "source": [
    "The two boxplots are too squished for us to be making any bold assumptions here. But we see the histogram with yearly_availability has a higher IQR which could hint at the fact that maybe owners owning multiple hotels tend to have their hotels available year long."
   ]
  },
  {
   "cell_type": "markdown",
   "metadata": {},
   "source": [
    "This concludes the Data Visualization feature by feature part."
   ]
  },
  {
   "cell_type": "markdown",
   "metadata": {},
   "source": [
    "## FEATURE SELECTION USING PEARSON'S CORRELATION"
   ]
  },
  {
   "cell_type": "code",
   "execution_count": 22,
   "metadata": {},
   "outputs": [
    {
     "name": "stdout",
     "output_type": "stream",
     "text": [
      "                           id  latitude  longitude      cost  minimum_nights  \\\n",
      "id                   1.000000 -0.016030   0.059679 -0.036814       -0.078409   \n",
      "latitude            -0.016030  1.000000   0.049337  0.009657        0.010614   \n",
      "longitude            0.059679  0.049337   1.000000 -0.136140       -0.074862   \n",
      "cost                -0.036814  0.009657  -0.136140  1.000000        0.052918   \n",
      "minimum_nights      -0.078409  0.010614  -0.074862  0.052918        1.000000   \n",
      "number_of_reviews   -0.330155  0.006295   0.006381 -0.074432       -0.088767   \n",
      "reviews_per_month    0.292821  0.039400   0.059299 -0.126146       -0.133842   \n",
      "owner_id             0.523565 -0.009361   0.142912 -0.049586       -0.018005   \n",
      "owned_hotels         0.025907  0.064103  -0.142529  0.032185        0.107893   \n",
      "yearly_availability -0.161629 -0.025119   0.119882  0.147576        0.173550   \n",
      "\n",
      "                     number_of_reviews  reviews_per_month  owner_id  \\\n",
      "id                           -0.330155           0.292821  0.523565   \n",
      "latitude                      0.006295           0.039400 -0.009361   \n",
      "longitude                     0.006381           0.059299  0.142912   \n",
      "cost                         -0.074432          -0.126146 -0.049586   \n",
      "minimum_nights               -0.088767          -0.133842 -0.018005   \n",
      "number_of_reviews             1.000000           0.529528 -0.161979   \n",
      "reviews_per_month             0.529528           1.000000  0.194204   \n",
      "owner_id                     -0.161979           0.194204  1.000000   \n",
      "owned_hotels                 -0.112328          -0.134904  0.074535   \n",
      "yearly_availability          -0.191645          -0.250670  0.121234   \n",
      "\n",
      "                     owned_hotels  yearly_availability  \n",
      "id                       0.025907            -0.161629  \n",
      "latitude                 0.064103            -0.025119  \n",
      "longitude               -0.142529             0.119882  \n",
      "cost                     0.032185             0.147576  \n",
      "minimum_nights           0.107893             0.173550  \n",
      "number_of_reviews       -0.112328            -0.191645  \n",
      "reviews_per_month       -0.134904            -0.250670  \n",
      "owner_id                 0.074535             0.121234  \n",
      "owned_hotels             1.000000             0.191906  \n",
      "yearly_availability      0.191906             1.000000  \n"
     ]
    }
   ],
   "source": [
    "print(data.corr())"
   ]
  },
  {
   "cell_type": "code",
   "execution_count": 23,
   "metadata": {},
   "outputs": [
    {
     "name": "stdout",
     "output_type": "stream",
     "text": [
      "AxesSubplot(0.125,0.125;0.62x0.755)\n"
     ]
    },
    {
     "data": {
      "image/png": "[encoded data removed]",
      "text/plain": [
       "<Figure size 432x288 with 2 Axes>"
      ]
     },
     "metadata": {
      "needs_background": "light"
     },
     "output_type": "display_data"
    }
   ],
   "source": [
    "print(sns.heatmap(data.corr()))"
   ]
  },
  {
   "cell_type": "markdown",
   "metadata": {},
   "source": [
    "When we're using Pearson's correlation to eliminate redundant features, we normally only discard one feature out a pair which has a cross-correlation of higher than 0.9. Because this indicates dependency between features.\n",
    "\n",
    "But, as we can see here, there is not a single pair of features here with a cross-correlation higher than 0.9. We will retain all features for now.\n",
    "\n",
    "Let's use another feature selection method later that might provide us with more insights."
   ]
  },
  {
   "cell_type": "markdown",
   "metadata": {},
   "source": [
    "## CHECKING FOR MISSING VALUES"
   ]
  },
  {
   "cell_type": "code",
   "execution_count": 24,
   "metadata": {},
   "outputs": [
    {
     "name": "stdout",
     "output_type": "stream",
     "text": [
      "There are 676 missing values our dataset in total.\n",
      "The following columns have missing values - ['reviews_per_month'].\n"
     ]
    }
   ],
   "source": [
    "count = 0\n",
    "cols_nan = []\n",
    "for col in data.columns.values.tolist():\n",
    "    for j in list(data[col]):\n",
    "        if pd.isnull(j):\n",
    "            count += 1\n",
    "            if cols_nan.count(col) == 0:\n",
    "                cols_nan.append(col)\n",
    "        \n",
    "print(\"There are {} missing values our dataset in total.\".format(count))\n",
    "print(\"The following columns have missing values - {}.\".format(cols_nan))"
   ]
  },
  {
   "cell_type": "markdown",
   "metadata": {},
   "source": [
    "So, some good news is that we have missing data in only feature viz. reviews_per_month. Let's impute this missing data."
   ]
  },
  {
   "cell_type": "code",
   "execution_count": 25,
   "metadata": {},
   "outputs": [
    {
     "name": "stdout",
     "output_type": "stream",
     "text": [
      "Index(['id', 'region', 'latitude', 'longitude', 'accommodation_type', 'cost',\n",
      "       'minimum_nights', 'number_of_reviews', 'reviews_per_month', 'owner_id',\n",
      "       'owned_hotels', 'yearly_availability'],\n",
      "      dtype='object')\n"
     ]
    }
   ],
   "source": [
    "print(data.columns)"
   ]
  },
  {
   "cell_type": "markdown",
   "metadata": {},
   "source": [
    "Let us first one hot encode the data before we can impute missing values!"
   ]
  },
  {
   "cell_type": "markdown",
   "metadata": {},
   "source": [
    "## ONE HOT ENCODING THE DATA"
   ]
  },
  {
   "cell_type": "code",
   "execution_count": 26,
   "metadata": {},
   "outputs": [],
   "source": [
    "from sklearn.feature_extraction.text import CountVectorizer\n",
    "\n",
    "def add_to_dataframe(sp, data, vectorizer, name):\n",
    " \n",
    "  for i, col in enumerate(vectorizer.get_feature_names()):\n",
    "    colname = name + \"_\" + col\n",
    "    \n",
    "    data[colname] = sp[:, i].toarray().ravel().tolist()\n",
    "  \n",
    "  return data\n",
    "\n",
    "def OneHotEncoder(categorical_cols, X_train):\n",
    "\n",
    "    for i in categorical_cols:\n",
    "        \n",
    "        Vectorizer = CountVectorizer(token_pattern=\"[A-Za-z0-9-.]+\")\n",
    "        print(\"Performing One-Hot Encoding for -----> \", i)\n",
    "\n",
    "        # Encoding training dataset \n",
    "        temp_cols = Vectorizer.fit_transform(X_train[i])\n",
    "        X_train = add_to_dataframe(temp_cols, X_train, Vectorizer, i)"
   ]
  },
  {
   "cell_type": "code",
   "execution_count": 27,
   "metadata": {},
   "outputs": [
    {
     "name": "stdout",
     "output_type": "stream",
     "text": [
      "Performing One-Hot Encoding for ----->  region\n",
      "Performing One-Hot Encoding for ----->  accommodation_type\n"
     ]
    }
   ],
   "source": [
    "OneHotEncoder([\"region\", \"accommodation_type\"], data)"
   ]
  },
  {
   "cell_type": "code",
   "execution_count": 28,
   "metadata": {},
   "outputs": [],
   "source": [
    "data = data.drop([\"id\", \"region\", \"accommodation_type\"], axis = 1)"
   ]
  },
  {
   "cell_type": "code",
   "execution_count": 30,
   "metadata": {},
   "outputs": [],
   "source": [
    "cols = list(data.columns)"
   ]
  },
  {
   "cell_type": "code",
   "execution_count": 31,
   "metadata": {},
   "outputs": [
    {
     "name": "stdout",
     "output_type": "stream",
     "text": [
      "['latitude', 'longitude', 'cost', 'minimum_nights', 'number_of_reviews', 'reviews_per_month', 'owner_id', 'owned_hotels', 'yearly_availability', 'region_bronx', 'region_brooklyn', 'region_island', 'region_manhattan', 'region_queens', 'region_staten', 'accommodation_type_apt', 'accommodation_type_entire', 'accommodation_type_home', 'accommodation_type_private', 'accommodation_type_room', 'accommodation_type_shared']\n"
     ]
    }
   ],
   "source": [
    "print(cols)"
   ]
  },
  {
   "cell_type": "markdown",
   "metadata": {},
   "source": [
    "## DATA IMPUTATION"
   ]
  },
  {
   "cell_type": "markdown",
   "metadata": {},
   "source": [
    "A very common and naive strategy to imputing missing data is imputing with the mean, median and mode. For obvious reasons, these methods don't work very well in practice. Let's rather impute using a slighly sopihisticated technique called MICE (Multiple Imputations using Chained Equations).\n",
    "\n",
    "MICE assumes the data is MAR (Missing at Random). MAR assumes distinct probability distributions between the observed & missing data unlike MCAR (Missing Completely at Random).\n",
    "\n",
    "The more general case would be MNAR (Missing Not At Random) and is much harder to deal with.\n",
    "\n",
    "We will use sklearn's Iterative Imputer here along with an ExtraTreesRegressor."
   ]
  },
  {
   "cell_type": "code",
   "execution_count": 35,
   "metadata": {},
   "outputs": [],
   "source": [
    "from sklearn.experimental import enable_iterative_imputer\n",
    "from sklearn.impute import IterativeImputer\n",
    "from sklearn.ensemble import ExtraTreesRegressor"
   ]
  },
  {
   "cell_type": "code",
   "execution_count": 36,
   "metadata": {},
   "outputs": [],
   "source": [
    "imp = IterativeImputer(random_state = 0, estimator = ExtraTreesRegressor(n_estimators = 10, random_state = 0))"
   ]
  },
  {
   "cell_type": "code",
   "execution_count": 37,
   "metadata": {},
   "outputs": [
    {
     "data": {
      "text/plain": [
       "IterativeImputer(add_indicator=False,\n",
       "                 estimator=ExtraTreesRegressor(bootstrap=False, criterion='mse',\n",
       "                                               max_depth=None,\n",
       "                                               max_features='auto',\n",
       "                                               max_leaf_nodes=None,\n",
       "                                               min_impurity_decrease=0.0,\n",
       "                                               min_impurity_split=None,\n",
       "                                               min_samples_leaf=1,\n",
       "                                               min_samples_split=2,\n",
       "                                               min_weight_fraction_leaf=0.0,\n",
       "                                               n_estimators=10, n_jobs=None,\n",
       "                                               oob_score=False, random_state=0,\n",
       "                                               verbose=0, warm_start=False),\n",
       "                 imputation_order='ascending', initial_strategy='mean',\n",
       "                 max_iter=10, max_value=None, min_value=None,\n",
       "                 missing_values=nan, n_nearest_features=None, random_state=0,\n",
       "                 sample_posterior=False, tol=0.001, verbose=0)"
      ]
     },
     "execution_count": 37,
     "metadata": {},
     "output_type": "execute_result"
    }
   ],
   "source": [
    "imp.fit(data)"
   ]
  },
  {
   "cell_type": "code",
   "execution_count": 38,
   "metadata": {},
   "outputs": [
    {
     "name": "stdout",
     "output_type": "stream",
     "text": [
      "[[  40.71854  -74.00439  170.      ...    0.         0.         0.     ]\n",
      " [  40.64446  -73.9503    65.      ...    0.         0.         0.     ]\n",
      " [  40.78573  -73.81062   85.      ...    1.         1.         0.     ]\n",
      " ...\n",
      " [  40.76619  -73.98987  179.      ...    0.         0.         0.     ]\n",
      " [  40.74637  -73.97207  200.      ...    1.         1.         0.     ]\n",
      " [  40.79208  -73.96482 1000.      ...    0.         1.         1.     ]]\n"
     ]
    }
   ],
   "source": [
    "data_imputed = imp.transform(data)\n",
    "print(data_imputed)"
   ]
  },
  {
   "cell_type": "code",
   "execution_count": 39,
   "metadata": {},
   "outputs": [],
   "source": [
    "data = pd.DataFrame(data = data_imputed, columns = cols)"
   ]
  },
  {
   "cell_type": "code",
   "execution_count": 40,
   "metadata": {},
   "outputs": [
    {
     "name": "stdout",
     "output_type": "stream",
     "text": [
      "      latitude  longitude    cost  minimum_nights  number_of_reviews  \\\n",
      "0     40.71854  -74.00439   170.0             5.0                7.0   \n",
      "1     40.64446  -73.95030    65.0             3.0              238.0   \n",
      "2     40.78573  -73.81062    85.0             1.0                0.0   \n",
      "3     40.73863  -73.98002   210.0            30.0                0.0   \n",
      "4     40.82426  -73.94630    75.0             3.0               38.0   \n",
      "...        ...        ...     ...             ...                ...   \n",
      "2865  40.74316  -73.98038   400.0             2.0                0.0   \n",
      "2866  40.73523  -73.99465   180.0             3.0                2.0   \n",
      "2867  40.76619  -73.98987   179.0             3.0               17.0   \n",
      "2868  40.74637  -73.97207   200.0            30.0                0.0   \n",
      "2869  40.79208  -73.96482  1000.0            30.0               24.0   \n",
      "\n",
      "      reviews_per_month     owner_id  owned_hotels  yearly_availability  \\\n",
      "0                 0.560     929983.0           1.0                  0.0   \n",
      "1                 2.300     281764.0           1.0                  0.0   \n",
      "2                 0.649   19923341.0           1.0                  1.0   \n",
      "3                 0.438  200380610.0          65.0                  1.0   \n",
      "4                 0.420     745069.0           3.0                  1.0   \n",
      "...                 ...          ...           ...                  ...   \n",
      "2865              1.013  270096906.0           1.0                  1.0   \n",
      "2866              0.070   97266110.0           1.0                  1.0   \n",
      "2867              0.670   10903067.0           1.0                  0.0   \n",
      "2868              0.059    2856748.0          49.0                  1.0   \n",
      "2869              0.330     836168.0          11.0                  1.0   \n",
      "\n",
      "      region_bronx  region_brooklyn  region_island  region_manhattan  \\\n",
      "0              0.0              0.0            0.0               1.0   \n",
      "1              0.0              1.0            0.0               0.0   \n",
      "2              0.0              0.0            0.0               0.0   \n",
      "3              0.0              0.0            0.0               1.0   \n",
      "4              0.0              0.0            0.0               1.0   \n",
      "...            ...              ...            ...               ...   \n",
      "2865           0.0              0.0            0.0               1.0   \n",
      "2866           0.0              0.0            0.0               1.0   \n",
      "2867           0.0              0.0            0.0               1.0   \n",
      "2868           0.0              0.0            0.0               1.0   \n",
      "2869           0.0              0.0            0.0               1.0   \n",
      "\n",
      "      region_queens  region_staten  accommodation_type_apt  \\\n",
      "0               0.0            0.0                     1.0   \n",
      "1               0.0            0.0                     1.0   \n",
      "2               1.0            0.0                     0.0   \n",
      "3               0.0            0.0                     0.0   \n",
      "4               0.0            0.0                     0.0   \n",
      "...             ...            ...                     ...   \n",
      "2865            0.0            0.0                     0.0   \n",
      "2866            0.0            0.0                     0.0   \n",
      "2867            0.0            0.0                     1.0   \n",
      "2868            0.0            0.0                     0.0   \n",
      "2869            0.0            0.0                     0.0   \n",
      "\n",
      "      accommodation_type_entire  accommodation_type_home  \\\n",
      "0                           1.0                      1.0   \n",
      "1                           1.0                      1.0   \n",
      "2                           0.0                      0.0   \n",
      "3                           0.0                      0.0   \n",
      "4                           0.0                      0.0   \n",
      "...                         ...                      ...   \n",
      "2865                        0.0                      0.0   \n",
      "2866                        0.0                      0.0   \n",
      "2867                        1.0                      1.0   \n",
      "2868                        0.0                      0.0   \n",
      "2869                        0.0                      0.0   \n",
      "\n",
      "      accommodation_type_private  accommodation_type_room  \\\n",
      "0                            0.0                      0.0   \n",
      "1                            0.0                      0.0   \n",
      "2                            1.0                      1.0   \n",
      "3                            1.0                      1.0   \n",
      "4                            0.0                      1.0   \n",
      "...                          ...                      ...   \n",
      "2865                         1.0                      1.0   \n",
      "2866                         1.0                      1.0   \n",
      "2867                         0.0                      0.0   \n",
      "2868                         1.0                      1.0   \n",
      "2869                         0.0                      1.0   \n",
      "\n",
      "      accommodation_type_shared  \n",
      "0                           0.0  \n",
      "1                           0.0  \n",
      "2                           0.0  \n",
      "3                           0.0  \n",
      "4                           1.0  \n",
      "...                         ...  \n",
      "2865                        0.0  \n",
      "2866                        0.0  \n",
      "2867                        0.0  \n",
      "2868                        0.0  \n",
      "2869                        1.0  \n",
      "\n",
      "[2870 rows x 21 columns]\n"
     ]
    }
   ],
   "source": [
    "print(data)"
   ]
  },
  {
   "cell_type": "markdown",
   "metadata": {},
   "source": [
    "Data has been successfully imputed.\n",
    "\n",
    "Now, that our dataset is one hot encoded and missing values have been imputed, let us now try an advanced version of feature selection."
   ]
  },
  {
   "cell_type": "markdown",
   "metadata": {},
   "source": [
    "## RECURSIVE FEATURE ELIMINATION WITH CROSS VALIDATION"
   ]
  },
  {
   "cell_type": "code",
   "execution_count": 69,
   "metadata": {},
   "outputs": [],
   "source": [
    "from sklearn.linear_model import LogisticRegression, SGDClassifier\n",
    "from sklearn.feature_selection import RFECV\n",
    "from sklearn.model_selection import StratifiedKFold\n",
    "from sklearn.tree import DecisionTreeClassifier"
   ]
  },
  {
   "cell_type": "code",
   "execution_count": 70,
   "metadata": {},
   "outputs": [],
   "source": [
    "y = data[\"yearly_availability\"]\n",
    "data_X = data.drop([\"yearly_availability\"], axis = 1)"
   ]
  },
  {
   "cell_type": "code",
   "execution_count": 71,
   "metadata": {},
   "outputs": [
    {
     "name": "stdout",
     "output_type": "stream",
     "text": [
      "Index(['latitude', 'longitude', 'cost', 'minimum_nights', 'number_of_reviews',\n",
      "       'reviews_per_month', 'owner_id', 'owned_hotels', 'region_bronx',\n",
      "       'region_brooklyn', 'region_island', 'region_manhattan', 'region_queens',\n",
      "       'region_staten', 'accommodation_type_apt', 'accommodation_type_entire',\n",
      "       'accommodation_type_home', 'accommodation_type_private',\n",
      "       'accommodation_type_room', 'accommodation_type_shared'],\n",
      "      dtype='object')\n"
     ]
    }
   ],
   "source": [
    "print(data_X.columns)"
   ]
  },
  {
   "cell_type": "code",
   "execution_count": 72,
   "metadata": {},
   "outputs": [
    {
     "data": {
      "text/plain": [
       "RFECV(cv=StratifiedKFold(n_splits=10, random_state=123, shuffle=True),\n",
       "      estimator=DecisionTreeClassifier(class_weight=None, criterion='gini',\n",
       "                                       max_depth=None, max_features=None,\n",
       "                                       max_leaf_nodes=None,\n",
       "                                       min_impurity_decrease=0.0,\n",
       "                                       min_impurity_split=None,\n",
       "                                       min_samples_leaf=1, min_samples_split=2,\n",
       "                                       min_weight_fraction_leaf=0.0,\n",
       "                                       presort=False, random_state=None,\n",
       "                                       splitter='best'),\n",
       "      min_features_to_select=1, n_jobs=None, scoring='accuracy', step=1,\n",
       "      verbose=0)"
      ]
     },
     "execution_count": 72,
     "metadata": {},
     "output_type": "execute_result"
    }
   ],
   "source": [
    "#Use Logistic Regression as the classifier and set the fold(k) for cross validation to 10\n",
    "\n",
    "estimator = DecisionTreeClassifier()\n",
    "rfecv = RFECV(estimator=estimator, cv=StratifiedKFold(10, random_state=123, shuffle=True), scoring=\"accuracy\")\n",
    "rfecv.fit(data_X, y)"
   ]
  },
  {
   "cell_type": "markdown",
   "metadata": {},
   "source": [
    "Lets make a line plot of selected features against their cross validation score!"
   ]
  },
  {
   "cell_type": "code",
   "execution_count": 73,
   "metadata": {},
   "outputs": [
    {
     "data": {
      "image/png": "[encoded data removed]",
      "text/plain": [
       "<Figure size 576x432 with 1 Axes>"
      ]
     },
     "metadata": {
      "needs_background": "light"
     },
     "output_type": "display_data"
    },
    {
     "name": "stdout",
     "output_type": "stream",
     "text": [
      "The optimal number of features: 14\n"
     ]
    }
   ],
   "source": [
    "plt.figure(figsize=(8, 6))\n",
    "plt.plot(range(1, len(rfecv.grid_scores_)+1), rfecv.grid_scores_)\n",
    "plt.grid()\n",
    "plt.xticks(range(1, data_X.shape[1]+1))\n",
    "plt.xlabel(\"Number of Selected Features\")\n",
    "plt.ylabel(\"CV Score\")\n",
    "plt.title(\"Recursive Feature Elimination (RFE)\")\n",
    "plt.show()\n",
    "\n",
    "print(\"The optimal number of features: {}\".format(rfecv.n_features_))"
   ]
  },
  {
   "cell_type": "markdown",
   "metadata": {},
   "source": [
    "As we can see the optimal number of features to select out of the 20 is 14. Let's construct our new DataFrame object with only these features."
   ]
  },
  {
   "cell_type": "code",
   "execution_count": 75,
   "metadata": {},
   "outputs": [],
   "source": [
    "data_rfe = data_X.iloc[:, rfecv.support_]"
   ]
  },
  {
   "cell_type": "code",
   "execution_count": 76,
   "metadata": {},
   "outputs": [
    {
     "name": "stdout",
     "output_type": "stream",
     "text": [
      "Index(['latitude', 'longitude', 'cost', 'minimum_nights', 'number_of_reviews',\n",
      "       'reviews_per_month', 'owner_id', 'owned_hotels', 'region_bronx',\n",
      "       'region_brooklyn', 'region_manhattan', 'region_queens',\n",
      "       'accommodation_type_entire', 'accommodation_type_private'],\n",
      "      dtype='object')\n"
     ]
    }
   ],
   "source": [
    "print(data_rfe.columns)"
   ]
  },
  {
   "cell_type": "markdown",
   "metadata": {},
   "source": [
    "Feature Selection is now finally over. Let us now split our data into training and validation sets."
   ]
  },
  {
   "cell_type": "markdown",
   "metadata": {},
   "source": [
    "## SPLITTING INTO TRAINING-VALIDATION SETS"
   ]
  },
  {
   "cell_type": "code",
   "execution_count": 77,
   "metadata": {},
   "outputs": [
    {
     "name": "stdout",
     "output_type": "stream",
     "text": [
      "(2296, 14)\n",
      "(574, 14)\n"
     ]
    }
   ],
   "source": [
    "from sklearn.model_selection import train_test_split\n",
    "\n",
    "#performing an 80-20 split to get training and test sets\n",
    "X_train, X_test, y_train, y_test = train_test_split(data_rfe, y, test_size = 0.2)\n",
    "\n",
    "print(X_train.shape)\n",
    "print(X_test.shape)"
   ]
  },
  {
   "cell_type": "markdown",
   "metadata": {},
   "source": [
    "Now let's run some ML models!"
   ]
  },
  {
   "cell_type": "markdown",
   "metadata": {},
   "source": [
    "## XGBOOST"
   ]
  },
  {
   "cell_type": "code",
   "execution_count": 106,
   "metadata": {},
   "outputs": [],
   "source": [
    "from sklearn.metrics import accuracy_score\n",
    "from tqdm import tqdm"
   ]
  },
  {
   "cell_type": "code",
   "execution_count": 107,
   "metadata": {},
   "outputs": [
    {
     "name": "stdout",
     "output_type": "stream",
     "text": [
      "Accuracy is 0.926829268292683\n"
     ]
    }
   ],
   "source": [
    "from xgboost import XGBClassifier\n",
    "\n",
    "alpha = 50\n",
    "\n",
    "classifier = XGBClassifier(n_estimators = alpha, tree_method = \"hist\", use_label_encoder = False, eval_metric = \"logloss\")\n",
    "classifier.fit(X_train, y_train)\n",
    "# sig = CalibratedClassifierCV(classifier, method = \"sigmoid\")\n",
    "# sig.fit(X_train, y_train)\n",
    "predictions = classifier.predict_proba(X_test)\n",
    "pred = [1 if ele[1] >= 0.5 else 0 for ele in predictions]\n",
    "print(\"Accuracy is {}\".format(accuracy_score(y_test, pred)))\n",
    "    "
   ]
  },
  {
   "cell_type": "markdown",
   "metadata": {},
   "source": [
    "We are getting an accuracy of around 93% on the validation set which is amazing! \n",
    "\n",
    "Let us visualize feature importance and see which features were most instrumental in making predictions!"
   ]
  },
  {
   "cell_type": "markdown",
   "metadata": {},
   "source": [
    "## FEATURE IMPORTANCE"
   ]
  },
  {
   "cell_type": "code",
   "execution_count": 110,
   "metadata": {},
   "outputs": [
    {
     "data": {
      "text/plain": [
       "<matplotlib.axes._subplots.AxesSubplot at 0x7f0ec8fb58d0>"
      ]
     },
     "execution_count": 110,
     "metadata": {},
     "output_type": "execute_result"
    },
    {
     "data": {
      "image/png": "[encoded data removed]",
      "text/plain": [
       "<Figure size 1440x720 with 1 Axes>"
      ]
     },
     "metadata": {
      "needs_background": "light"
     },
     "output_type": "display_data"
    }
   ],
   "source": [
    "feature_important = classifier.get_booster().get_score(importance_type='weight')\n",
    "keys = list(feature_important.keys())\n",
    "values = list(feature_important.values())\n",
    "\n",
    "data = pd.DataFrame(data=values, index=keys, columns=[\"score\"]).sort_values(by = \"score\", ascending=False)\n",
    "data.nlargest(12, columns=\"score\").plot(kind='barh', figsize = (20,10)) ## plot top 40 features"
   ]
  },
  {
   "cell_type": "markdown",
   "metadata": {},
   "source": [
    "As we can see reviews_per_month is the most influential feature. Longitude, cost and latitude follow as well.\n",
    "\n",
    "You can take a look at this bar graph to get an idea of the most important features!\n",
    "\n",
    "Now let's make inferences on the test set!"
   ]
  },
  {
   "cell_type": "markdown",
   "metadata": {},
   "source": [
    "## PREPARING TEST DATA FOR INFERENCING"
   ]
  },
  {
   "cell_type": "code",
   "execution_count": 121,
   "metadata": {},
   "outputs": [
    {
     "data": {
      "text/html": [
       "<div>\n",
       "<style scoped>\n",
       "    .dataframe tbody tr th:only-of-type {\n",
       "        vertical-align: middle;\n",
       "    }\n",
       "\n",
       "    .dataframe tbody tr th {\n",
       "        vertical-align: top;\n",
       "    }\n",
       "\n",
       "    .dataframe thead th {\n",
       "        text-align: right;\n",
       "    }\n",
       "</style>\n",
       "<table border=\"1\" class=\"dataframe\">\n",
       "  <thead>\n",
       "    <tr style=\"text-align: right;\">\n",
       "      <th></th>\n",
       "      <th>id</th>\n",
       "      <th>region</th>\n",
       "      <th>latitude</th>\n",
       "      <th>longitude</th>\n",
       "      <th>accommodation_type</th>\n",
       "      <th>cost</th>\n",
       "      <th>minimum_nights</th>\n",
       "      <th>number_of_reviews</th>\n",
       "      <th>reviews_per_month</th>\n",
       "      <th>owner_id</th>\n",
       "      <th>owned_hotels</th>\n",
       "    </tr>\n",
       "  </thead>\n",
       "  <tbody>\n",
       "    <tr>\n",
       "      <th>0</th>\n",
       "      <td>19215</td>\n",
       "      <td>Brooklyn</td>\n",
       "      <td>40.70912</td>\n",
       "      <td>-73.94513</td>\n",
       "      <td>Shared room</td>\n",
       "      <td>135</td>\n",
       "      <td>2</td>\n",
       "      <td>22</td>\n",
       "      <td>0.66</td>\n",
       "      <td>4360212</td>\n",
       "      <td>1</td>\n",
       "    </tr>\n",
       "    <tr>\n",
       "      <th>1</th>\n",
       "      <td>36301</td>\n",
       "      <td>Brooklyn</td>\n",
       "      <td>40.57646</td>\n",
       "      <td>-73.96641</td>\n",
       "      <td>Entire home/apt</td>\n",
       "      <td>69</td>\n",
       "      <td>2</td>\n",
       "      <td>8</td>\n",
       "      <td>0.90</td>\n",
       "      <td>181356989</td>\n",
       "      <td>2</td>\n",
       "    </tr>\n",
       "    <tr>\n",
       "      <th>2</th>\n",
       "      <td>40566</td>\n",
       "      <td>Manhattan</td>\n",
       "      <td>40.76616</td>\n",
       "      <td>-73.98228</td>\n",
       "      <td>Private room</td>\n",
       "      <td>225</td>\n",
       "      <td>30</td>\n",
       "      <td>0</td>\n",
       "      <td>NaN</td>\n",
       "      <td>13773574</td>\n",
       "      <td>12</td>\n",
       "    </tr>\n",
       "    <tr>\n",
       "      <th>3</th>\n",
       "      <td>33694</td>\n",
       "      <td>Manhattan</td>\n",
       "      <td>40.77668</td>\n",
       "      <td>-73.94587</td>\n",
       "      <td>Shared room</td>\n",
       "      <td>125</td>\n",
       "      <td>30</td>\n",
       "      <td>9</td>\n",
       "      <td>0.82</td>\n",
       "      <td>6788748</td>\n",
       "      <td>1</td>\n",
       "    </tr>\n",
       "    <tr>\n",
       "      <th>4</th>\n",
       "      <td>28873</td>\n",
       "      <td>Manhattan</td>\n",
       "      <td>40.80279</td>\n",
       "      <td>-73.94450</td>\n",
       "      <td>Entire home/apt</td>\n",
       "      <td>43</td>\n",
       "      <td>1</td>\n",
       "      <td>13</td>\n",
       "      <td>0.72</td>\n",
       "      <td>105061915</td>\n",
       "      <td>2</td>\n",
       "    </tr>\n",
       "  </tbody>\n",
       "</table>\n",
       "</div>"
      ],
      "text/plain": [
       "      id     region  latitude  longitude accommodation_type  cost  \\\n",
       "0  19215   Brooklyn  40.70912  -73.94513        Shared room   135   \n",
       "1  36301   Brooklyn  40.57646  -73.96641    Entire home/apt    69   \n",
       "2  40566  Manhattan  40.76616  -73.98228       Private room   225   \n",
       "3  33694  Manhattan  40.77668  -73.94587        Shared room   125   \n",
       "4  28873  Manhattan  40.80279  -73.94450    Entire home/apt    43   \n",
       "\n",
       "   minimum_nights  number_of_reviews  reviews_per_month   owner_id  \\\n",
       "0               2                 22               0.66    4360212   \n",
       "1               2                  8               0.90  181356989   \n",
       "2              30                  0                NaN   13773574   \n",
       "3              30                  9               0.82    6788748   \n",
       "4               1                 13               0.72  105061915   \n",
       "\n",
       "   owned_hotels  \n",
       "0             1  \n",
       "1             2  \n",
       "2            12  \n",
       "3             1  \n",
       "4             2  "
      ]
     },
     "execution_count": 121,
     "metadata": {},
     "output_type": "execute_result"
    }
   ],
   "source": [
    "#Loading Test data\n",
    "test_data=pd.read_csv('test.csv')\n",
    "test_data.head()"
   ]
  },
  {
   "cell_type": "code",
   "execution_count": 122,
   "metadata": {},
   "outputs": [
    {
     "name": "stdout",
     "output_type": "stream",
     "text": [
      "Performing One-Hot Encoding for ----->  region\n",
      "Performing One-Hot Encoding for ----->  accommodation_type\n"
     ]
    }
   ],
   "source": [
    "OneHotEncoder([\"region\", \"accommodation_type\"], test_data)"
   ]
  },
  {
   "cell_type": "code",
   "execution_count": 123,
   "metadata": {},
   "outputs": [],
   "source": [
    "ids = test_data[\"id\"]\n",
    "test_data = test_data.drop([\"id\", \"region\", \"accommodation_type\"], axis = 1)"
   ]
  },
  {
   "cell_type": "code",
   "execution_count": 124,
   "metadata": {},
   "outputs": [
    {
     "data": {
      "text/plain": [
       "IterativeImputer(add_indicator=False,\n",
       "                 estimator=ExtraTreesRegressor(bootstrap=False, criterion='mse',\n",
       "                                               max_depth=None,\n",
       "                                               max_features='auto',\n",
       "                                               max_leaf_nodes=None,\n",
       "                                               min_impurity_decrease=0.0,\n",
       "                                               min_impurity_split=None,\n",
       "                                               min_samples_leaf=1,\n",
       "                                               min_samples_split=2,\n",
       "                                               min_weight_fraction_leaf=0.0,\n",
       "                                               n_estimators=10, n_jobs=None,\n",
       "                                               oob_score=False, random_state=0,\n",
       "                                               verbose=0, warm_start=False),\n",
       "                 imputation_order='ascending', initial_strategy='mean',\n",
       "                 max_iter=10, max_value=None, min_value=None,\n",
       "                 missing_values=nan, n_nearest_features=None, random_state=0,\n",
       "                 sample_posterior=False, tol=0.001, verbose=0)"
      ]
     },
     "execution_count": 124,
     "metadata": {},
     "output_type": "execute_result"
    }
   ],
   "source": [
    "imp.fit(test_data)"
   ]
  },
  {
   "cell_type": "code",
   "execution_count": 125,
   "metadata": {},
   "outputs": [],
   "source": [
    "cols = list(test_data.columns)\n",
    "test_data_imputed = imp.transform(test_data)"
   ]
  },
  {
   "cell_type": "code",
   "execution_count": 126,
   "metadata": {},
   "outputs": [],
   "source": [
    "test_data = pd.DataFrame(data = test_data_imputed, columns = cols)"
   ]
  },
  {
   "cell_type": "code",
   "execution_count": 127,
   "metadata": {},
   "outputs": [],
   "source": [
    "test_data_rfe = test_data.iloc[:, rfecv.support_]"
   ]
  },
  {
   "cell_type": "code",
   "execution_count": 128,
   "metadata": {},
   "outputs": [
    {
     "name": "stdout",
     "output_type": "stream",
     "text": [
      "Index(['latitude', 'longitude', 'cost', 'minimum_nights', 'number_of_reviews',\n",
      "       'reviews_per_month', 'owner_id', 'owned_hotels', 'region_bronx',\n",
      "       'region_brooklyn', 'region_manhattan', 'region_queens',\n",
      "       'accommodation_type_entire', 'accommodation_type_private'],\n",
      "      dtype='object')\n"
     ]
    }
   ],
   "source": [
    "print(test_data_rfe.columns)"
   ]
  },
  {
   "cell_type": "markdown",
   "metadata": {},
   "source": [
    "## INFERENCES"
   ]
  },
  {
   "cell_type": "code",
   "execution_count": 129,
   "metadata": {
    "colab": {},
    "colab_type": "code",
    "id": "Hsxh3SMgIKSY",
    "outputId": "d98d0f00-f33f-407b-df59-a9915bb03fa1"
   },
   "outputs": [],
   "source": [
    "predictions = classifier.predict_proba(test_data_rfe)\n",
    "pred = [1 if ele[1] >= 0.5 else 0 for ele in predictions]"
   ]
  },
  {
   "cell_type": "code",
   "execution_count": 134,
   "metadata": {
    "colab": {},
    "colab_type": "code",
    "id": "nkQU41WSIKSz"
   },
   "outputs": [],
   "source": [
    "ids = list(ids)"
   ]
  },
  {
   "cell_type": "code",
   "execution_count": 135,
   "metadata": {
    "colab": {},
    "colab_type": "code",
    "id": "HHFM3XPMIKS6"
   },
   "outputs": [],
   "source": [
    "list_of_tuples = list(zip(ids, pred))"
   ]
  },
  {
   "cell_type": "code",
   "execution_count": 136,
   "metadata": {
    "colab": {},
    "colab_type": "code",
    "id": "jabG4TJwIKS_"
   },
   "outputs": [],
   "source": [
    "df = pd.DataFrame(list_of_tuples, columns = [\"id\", \"yearly_availability\"])"
   ]
  },
  {
   "cell_type": "code",
   "execution_count": 141,
   "metadata": {
    "colab": {},
    "colab_type": "code",
    "id": "7xgNg25MIKTG"
   },
   "outputs": [],
   "source": [
    "df.to_csv(\"submissions.csv\", index = False, encoding='utf-8')"
   ]
  },
  {
   "cell_type": "markdown",
   "metadata": {
    "colab_type": "text",
    "id": "H_pB8zTcIKTW"
   },
   "source": [
    "---"
   ]
  }
 ],
 "metadata": {
  "colab": {
   "collapsed_sections": [],
   "name": "Questions.ipynb",
   "provenance": [],
   "version": "0.3.2"
  },
  "kernelspec": {
   "display_name": "Python 3",
   "language": "python",
   "name": "python3"
  },
  "language_info": {
   "codemirror_mode": {
    "name": "ipython",
    "version": 3
   },
   "file_extension": ".py",
   "mimetype": "text/x-python",
   "name": "python",
   "nbconvert_exporter": "python",
   "pygments_lexer": "ipython3",
   "version": "3.7.8"
  },
  "toc": {
   "base_numbering": 1,
   "nav_menu": {},
   "number_sections": true,
   "sideBar": true,
   "skip_h1_title": false,
   "title_cell": "Table of Contents",
   "title_sidebar": "Contents",
   "toc_cell": false,
   "toc_position": {},
   "toc_section_display": true,
   "toc_window_display": false
  }
 },
 "nbformat": 4,
 "nbformat_minor": 4
}
